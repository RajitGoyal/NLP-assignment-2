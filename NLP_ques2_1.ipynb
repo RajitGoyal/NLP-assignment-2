{
  "nbformat": 4,
  "nbformat_minor": 0,
  "metadata": {
    "colab": {
      "provenance": []
    },
    "kernelspec": {
      "name": "python3",
      "display_name": "Python 3"
    },
    "language_info": {
      "name": "python"
    }
  },
  "cells": [
    {
      "cell_type": "code",
      "execution_count": 1,
      "metadata": {
        "id": "avzTF0KdOJsL"
      },
      "outputs": [],
      "source": [
        "import math\n",
        "from sklearn.feature_extraction.text import CountVectorizer, TfidfVectorizer\n"
      ]
    },
    {
      "cell_type": "code",
      "source": [
        "corpus = [\n",
        "    'the sun is a star',\n",
        "    'the moon is a satellite',\n",
        "    'the sun and moon are celestial bodies'\n",
        "]"
      ],
      "metadata": {
        "id": "DyPJwI_AOXxK"
      },
      "execution_count": 2,
      "outputs": []
    },
    {
      "cell_type": "code",
      "source": [
        "tokenized_corpus = [doc.lower().split() for doc in corpus]\n"
      ],
      "metadata": {
        "id": "RaIl7icZOarn"
      },
      "execution_count": 3,
      "outputs": []
    },
    {
      "cell_type": "code",
      "source": [
        "vocab = sorted(set(word for doc in tokenized_corpus for word in doc))\n"
      ],
      "metadata": {
        "id": "ncm0wBRDOdOm"
      },
      "execution_count": 4,
      "outputs": []
    },
    {
      "cell_type": "code",
      "source": [
        "def compute_tf(doc):\n",
        "    tf = {}\n",
        "    for word in vocab:\n",
        "        tf[word] = doc.count(word) / len(doc)\n",
        "    return tf\n",
        "\n",
        "tf_list = [compute_tf(doc) for doc in tokenized_corpus]"
      ],
      "metadata": {
        "id": "XVraCRaBOfoW"
      },
      "execution_count": 5,
      "outputs": []
    },
    {
      "cell_type": "code",
      "source": [
        "def compute_df():\n",
        "    df = {}\n",
        "    for word in vocab:\n",
        "        df[word] = sum(word in doc for doc in tokenized_corpus)\n",
        "    return df\n",
        "\n",
        "df = compute_df()"
      ],
      "metadata": {
        "id": "KK0u7Mi3Oi-R"
      },
      "execution_count": 6,
      "outputs": []
    },
    {
      "cell_type": "code",
      "source": [
        "N = len(corpus)\n",
        "idf = {}\n",
        "for word in vocab:\n",
        "    idf[word] = math.log(N / df[word]) if df[word] else 0.0"
      ],
      "metadata": {
        "id": "hjiRrX0GOl0-"
      },
      "execution_count": 7,
      "outputs": []
    },
    {
      "cell_type": "code",
      "source": [
        "tfidf_manual = []\n",
        "for tf in tf_list:\n",
        "    tfidf = {}\n",
        "    for word in vocab:\n",
        "        tfidf[word] = round(tf[word] * idf[word], 4)\n",
        "    tfidf_manual.append(tfidf)\n",
        "\n",
        "print(\"Manual TF-IDF:\")\n",
        "for i, doc in enumerate(tfidf_manual):\n",
        "    print(f\"Doc {i+1}: {doc}\")"
      ],
      "metadata": {
        "colab": {
          "base_uri": "https://localhost:8080/"
        },
        "id": "7dD4KBnZOoFL",
        "outputId": "25b4db95-cf9e-49f9-946d-45cc7984c142"
      },
      "execution_count": 8,
      "outputs": [
        {
          "output_type": "stream",
          "name": "stdout",
          "text": [
            "Manual TF-IDF:\n",
            "Doc 1: {'a': 0.0811, 'and': 0.0, 'are': 0.0, 'bodies': 0.0, 'celestial': 0.0, 'is': 0.0811, 'moon': 0.0, 'satellite': 0.0, 'star': 0.2197, 'sun': 0.0811, 'the': 0.0}\n",
            "Doc 2: {'a': 0.0811, 'and': 0.0, 'are': 0.0, 'bodies': 0.0, 'celestial': 0.0, 'is': 0.0811, 'moon': 0.0811, 'satellite': 0.2197, 'star': 0.0, 'sun': 0.0, 'the': 0.0}\n",
            "Doc 3: {'a': 0.0, 'and': 0.1569, 'are': 0.1569, 'bodies': 0.1569, 'celestial': 0.1569, 'is': 0.0, 'moon': 0.0579, 'satellite': 0.0, 'star': 0.0, 'sun': 0.0579, 'the': 0.0}\n"
          ]
        }
      ]
    },
    {
      "cell_type": "code",
      "source": [
        "print(\"\\nscikit-learn CountVectorizer:\")\n",
        "cv = CountVectorizer()\n",
        "cv_matrix = cv.fit_transform(corpus)\n",
        "print(cv.get_feature_names_out())\n",
        "print(cv_matrix.toarray())"
      ],
      "metadata": {
        "colab": {
          "base_uri": "https://localhost:8080/"
        },
        "id": "S4dclcYUOrk_",
        "outputId": "092e713c-193a-4429-c001-040bc9e5f80c"
      },
      "execution_count": 9,
      "outputs": [
        {
          "output_type": "stream",
          "name": "stdout",
          "text": [
            "\n",
            "scikit-learn CountVectorizer:\n",
            "['and' 'are' 'bodies' 'celestial' 'is' 'moon' 'satellite' 'star' 'sun'\n",
            " 'the']\n",
            "[[0 0 0 0 1 0 0 1 1 1]\n",
            " [0 0 0 0 1 1 1 0 0 1]\n",
            " [1 1 1 1 0 1 0 0 1 1]]\n"
          ]
        }
      ]
    },
    {
      "cell_type": "code",
      "source": [
        "print(\"\\nscikit-learn TfidfVectorizer:\")\n",
        "tfidf = TfidfVectorizer()\n",
        "tfidf_matrix = tfidf.fit_transform(corpus)\n",
        "print(tfidf.get_feature_names_out())\n",
        "print(tfidf_matrix.toarray().round(3))"
      ],
      "metadata": {
        "colab": {
          "base_uri": "https://localhost:8080/"
        },
        "id": "bSAP3YUqOuPv",
        "outputId": "f54da33c-a5e6-4611-efeb-a69e4d5fe4f4"
      },
      "execution_count": 10,
      "outputs": [
        {
          "output_type": "stream",
          "name": "stdout",
          "text": [
            "\n",
            "scikit-learn TfidfVectorizer:\n",
            "['and' 'are' 'bodies' 'celestial' 'is' 'moon' 'satellite' 'star' 'sun'\n",
            " 'the']\n",
            "[[0.    0.    0.    0.    0.48  0.    0.    0.632 0.48  0.373]\n",
            " [0.    0.    0.    0.    0.48  0.48  0.632 0.    0.    0.373]\n",
            " [0.426 0.426 0.426 0.426 0.    0.324 0.    0.    0.324 0.252]]\n"
          ]
        }
      ]
    }
  ]
}